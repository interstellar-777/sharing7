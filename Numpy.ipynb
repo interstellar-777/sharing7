{
 "cells": [
  {
   "cell_type": "code",
   "execution_count": 1,
   "metadata": {},
   "outputs": [
    {
     "name": "stdout",
     "output_type": "stream",
     "text": [
      "[3 4 5 6 7]\n"
     ]
    }
   ],
   "source": [
    "import numpy as np\n",
    "a1=np.array([3,4,5,6,7])\n",
    "print(a1)"
   ]
  },
  {
   "cell_type": "code",
   "execution_count": 5,
   "metadata": {},
   "outputs": [
    {
     "name": "stdout",
     "output_type": "stream",
     "text": [
      "[[3 4 5]\n",
      " [1 2 3]\n",
      " [2 4 6]]\n",
      "2\n",
      "4\n",
      "4\n",
      "int32\n",
      "total elements: 9\n",
      "shape of array is: (3, 3)\n"
     ]
    }
   ],
   "source": [
    "import numpy as np\n",
    "a1=np.array([[3,4,5],[1,2,3],[2,4,6]])\n",
    "print(a1)\n",
    "print(a1.ndim)\n",
    "print(a1.itemsize)\n",
    "print(a1.itemsize)\n",
    "print(a1.dtype)\n",
    "print(\"total elements:\",a1.size)\n",
    "print(\"shape of array is:\",a1.shape)\n"
   ]
  },
  {
   "cell_type": "code",
   "execution_count": 9,
   "metadata": {},
   "outputs": [
    {
     "name": "stdout",
     "output_type": "stream",
     "text": [
      "[[3 4]\n",
      " [1 2]\n",
      " [2 4]]\n",
      "(3, 2)\n",
      "[[3 4 1]\n",
      " [2 2 4]]\n",
      "(2, 3)\n",
      "1\n"
     ]
    }
   ],
   "source": [
    "import numpy as np\n",
    "a1=np.array([[3,4],[1,2],[2,4]])\n",
    "print(a1)\n",
    "print(a1.shape)\n",
    "a2=a1.reshape(2,3)\n",
    "print(a2)\n",
    "print(a2.shape)\n",
    "print(a2[0,2])\n"
   ]
  },
  {
   "cell_type": "code",
   "execution_count": 17,
   "metadata": {},
   "outputs": [
    {
     "name": "stdout",
     "output_type": "stream",
     "text": [
      "array is: [ 3  4 78  1  2  8  9]\n",
      "max element: 78\n",
      "min element: 1\n",
      "sum of elements: 105\n",
      "[[ 10  15  20]\n",
      " [ 45  35  55]\n",
      " [ 40 100 110]]\n",
      "max from each row: [ 20  55 110]\n",
      "max from each column: [ 45 100 110]\n",
      "sum from each row: [ 45 135 250]\n",
      "sum from each column: [ 95 150 185]\n",
      "[[ 3.16227766  3.87298335  4.47213595]\n",
      " [ 6.70820393  5.91607978  7.41619849]\n",
      " [ 6.32455532 10.         10.48808848]]\n",
      "33.59159212851328\n"
     ]
    }
   ],
   "source": [
    "import numpy as np\n",
    "a1=np.array([3,4,78,1,2,8,9])\n",
    "print(\"array is:\",a1)\n",
    "print(\"max element:\",a1.max())\n",
    "print(\"min element:\",a1.min())\n",
    "print(\"sum of elements:\",a1.sum())\n",
    "a2=np.array([[10,15,20],[45,35,55],[40,100,110]])\n",
    "print(a2)\n",
    "print(\"max from each row:\",a2.max(axis=1))\n",
    "print(\"max from each column:\",a2.max(axis=0))\n",
    "print(\"sum from each row:\",a2.sum(axis=1))\n",
    "print(\"sum from each column:\",a2.sum(axis=0))\n",
    "print(np.sqrt(a2))\n",
    "print(np.std(a2))"
   ]
  },
  {
   "cell_type": "code",
   "execution_count": 28,
   "metadata": {},
   "outputs": [
    {
     "name": "stdout",
     "output_type": "stream",
     "text": [
      "[[11 13 15]\n",
      " [17 19 21]\n",
      " [23 25 27]]\n",
      "[[ 10  22  36]\n",
      " [ 52  70  90]\n",
      " [112 136 162]]\n",
      "[[9 9 9]\n",
      " [9 9 9]\n",
      " [9 9 9]]\n",
      "[[10.          5.5         4.        ]\n",
      " [ 3.25        2.8         2.5       ]\n",
      " [ 2.28571429  2.125       2.        ]]\n",
      "[[ 1  2  3]\n",
      " [ 4  5  6]\n",
      " [ 7  8  9]\n",
      " [10 11 12]\n",
      " [13 14 15]\n",
      " [16 17 18]]\n",
      "[[ 1  2  3 10 11 12]\n",
      " [ 4  5  6 13 14 15]\n",
      " [ 7  8  9 16 17 18]]\n"
     ]
    }
   ],
   "source": [
    "import numpy as np\n",
    "a1=np.array([[1,2,3],[4,5,6],[7,8,9]])\n",
    "a2=np.array([[10,11,12],[13,14,15],[16,17,18]])\n",
    "print(a1+a2)\n",
    "print(a1*a2)\n",
    "print(a2-a1)\n",
    "print(a2/a1)\n",
    "b1=np.vstack((a1,a2))  # syntax:- np.vstack(tuple)\n",
    "b2=np.hstack((a1,a2))  #\n",
    "print(b1)\n",
    "print(b2)\n",
    "      "
   ]
  },
  {
   "cell_type": "code",
   "execution_count": 31,
   "metadata": {},
   "outputs": [
    {
     "name": "stdout",
     "output_type": "stream",
     "text": [
      "int32\n",
      "[('salary', '<f8')]\n",
      "[[1 2 3]\n",
      " [4 5 6]]\n"
     ]
    }
   ],
   "source": [
    "import numpy as np\n",
    "d1=np.dtype(np.int32)\n",
    "print(d1)\n",
    "d2=np.dtype([(\"salary\",np.float)])\n",
    "print(d2)\n",
    "d3=np.array([[1,2,3],[4,5,6]],dtype=d1)\n",
    "print(d3)"
   ]
  },
  {
   "cell_type": "code",
   "execution_count": 196,
   "metadata": {},
   "outputs": [
    {
     "name": "stdout",
     "output_type": "stream",
     "text": [
      "[[ 1  2]\n",
      " [ 3  4]\n",
      " [ 5 67]]\n",
      "[[0 0]\n",
      " [0 0]\n",
      " [0 0]\n",
      " [0 0]]\n",
      "[[1. 1. 1. 1.]\n",
      " [1. 1. 1. 1.]]\n"
     ]
    }
   ],
   "source": [
    "#doubt\n",
    "import numpy as np\n",
    "a1=np.empty((3,2),dtype=int)\n",
    "a2=np.zeros((4,2),dtype=int)\n",
    "a3=np.ones((2,4),dtype=float)\n",
    "print(a1)\n",
    "print(a2)\n",
    "print(a3)"
   ]
  },
  {
   "cell_type": "code",
   "execution_count": 38,
   "metadata": {},
   "outputs": [
    {
     "name": "stdout",
     "output_type": "stream",
     "text": [
      "[ 1  2  3  4  5 67]\n",
      "[  3   5   7   9 112 233]\n",
      "[10 13 16 19 22 25 28 31 34 37 40 43 46 49 52 55 58 61 64 67 70 73 76 79\n",
      " 82 85 88 91 94 97]\n"
     ]
    }
   ],
   "source": [
    "import numpy as np\n",
    "l1=[1,2,3,4,5,67]\n",
    "l2=(3,5,7,9,112,233)\n",
    "a1=np.asarray(l1)\n",
    "a2=np.asarray(l2)\n",
    "print(a1)\n",
    "print(a2)\n",
    "a3=np.arange(10,100,3)\n",
    "print(a3)"
   ]
  },
  {
   "cell_type": "code",
   "execution_count": 182,
   "metadata": {},
   "outputs": [
    {
     "ename": "ValueError",
     "evalue": "operands could not be broadcast together with shapes (7,) (6,) ",
     "output_type": "error",
     "traceback": [
      "\u001b[1;31m---------------------------------------------------------------------------\u001b[0m",
      "\u001b[1;31mValueError\u001b[0m                                Traceback (most recent call last)",
      "\u001b[1;32m<ipython-input-182-3a9527e23f8e>\u001b[0m in \u001b[0;36m<module>\u001b[1;34m\u001b[0m\n\u001b[0;32m      3\u001b[0m \u001b[0ml2\u001b[0m\u001b[1;33m=\u001b[0m\u001b[0mnp\u001b[0m\u001b[1;33m.\u001b[0m\u001b[0marray\u001b[0m\u001b[1;33m(\u001b[0m\u001b[1;33m[\u001b[0m\u001b[1;36m3\u001b[0m\u001b[1;33m,\u001b[0m\u001b[1;36m5\u001b[0m\u001b[1;33m,\u001b[0m\u001b[1;36m7\u001b[0m\u001b[1;33m,\u001b[0m\u001b[1;36m9\u001b[0m\u001b[1;33m,\u001b[0m\u001b[1;36m112\u001b[0m\u001b[1;33m,\u001b[0m\u001b[1;36m233\u001b[0m\u001b[1;33m]\u001b[0m\u001b[1;33m)\u001b[0m\u001b[1;33m\u001b[0m\u001b[1;33m\u001b[0m\u001b[0m\n\u001b[0;32m      4\u001b[0m \u001b[1;33m\u001b[0m\u001b[0m\n\u001b[1;32m----> 5\u001b[1;33m \u001b[0mprint\u001b[0m\u001b[1;33m(\u001b[0m\u001b[0ml1\u001b[0m\u001b[1;33m*\u001b[0m\u001b[0ml2\u001b[0m\u001b[1;33m)\u001b[0m\u001b[1;33m\u001b[0m\u001b[1;33m\u001b[0m\u001b[0m\n\u001b[0m",
      "\u001b[1;31mValueError\u001b[0m: operands could not be broadcast together with shapes (7,) (6,) "
     ]
    }
   ],
   "source": [
    "import numpy as np\n",
    "l1=np.array([1,2,3,4,5,67])\n",
    "l2=np.array([3,5,7,9,112,233])\n",
    "l3=np.array([5,6,7,9,8,10,15])\n",
    "print(l1*l2)\n",
    "print(l1*l3) # broadcasting error"
   ]
  },
  {
   "cell_type": "code",
   "execution_count": 200,
   "metadata": {},
   "outputs": [
    {
     "name": "stdout",
     "output_type": "stream",
     "text": [
      "[[ 1  2  3  4]\n",
      " [ 2  4  5  6]\n",
      " [10 20 39  3]]\n",
      "[2 4 6 8]\n",
      "[[ 3  6  9 12]\n",
      " [ 4  8 11 14]\n",
      " [12 24 45 11]]\n",
      "[[  2   8  18  32]\n",
      " [  4  16  30  48]\n",
      " [ 20  80 234  24]]\n"
     ]
    }
   ],
   "source": [
    "#doubt broadcasting\n",
    "import numpy as np  \n",
    "a = np.array([[1,2,3,4],[2,4,5,6],[10,20,39,3]])  \n",
    "b = np.array([2,4,6,8]) \n",
    "print(a)\n",
    "print(b)\n",
    "c = a + b;  \n",
    "print(c)\n",
    "print(a*b)  #matrix rules are not holding here"
   ]
  },
  {
   "cell_type": "code",
   "execution_count": 197,
   "metadata": {},
   "outputs": [
    {
     "name": "stdout",
     "output_type": "stream",
     "text": [
      "[[ 2 18 24 28]\n",
      " [ 8 45 48 49]\n",
      " [16 81 80 77]]\n",
      "[[ 3 11 11 11]\n",
      " [ 6 14 14 14]\n",
      " [10 18 18 18]]\n"
     ]
    }
   ],
   "source": [
    "a=np.array([[1,2,3,4],[4,5,6,7],[8,9,10,11]])\n",
    "b=np.array([2,9,8,7])\n",
    "print(a*b)\n",
    "print(a+b)"
   ]
  },
  {
   "cell_type": "code",
   "execution_count": 69,
   "metadata": {},
   "outputs": [
    {
     "name": "stdout",
     "output_type": "stream",
     "text": [
      "5      9      6      7      8      76      \n",
      "\n",
      "4   5   6   7   8   9   10   11   13   20   22   24   "
     ]
    }
   ],
   "source": [
    "#np,nditer is iterator\n",
    "import numpy as np\n",
    "arr1=np.array([5,9,6,7,8,76])\n",
    "for i in np.nditer(arr1):\n",
    "    print(i,end=\"      \")\n",
    "print(\"\\n\")\n",
    "arr2=np.array([[4,5,6,7],[8,9,10,11],[13,20,22,24]])\n",
    "for i in np.nditer(arr2):\n",
    "    print(i,end=\"   \")"
   ]
  },
  {
   "cell_type": "code",
   "execution_count": 70,
   "metadata": {},
   "outputs": [
    {
     "name": "stdout",
     "output_type": "stream",
     "text": [
      "1.19.2\n"
     ]
    }
   ],
   "source": [
    "import numpy as np\n",
    "\n",
    "print(np.__version__)"
   ]
  },
  {
   "cell_type": "code",
   "execution_count": 76,
   "metadata": {},
   "outputs": [
    {
     "name": "stdout",
     "output_type": "stream",
     "text": [
      "original matrix\n",
      "[[1 2 3]\n",
      " [4 5 6]\n",
      " [7 8 9]]\n",
      "transpose matrix\n",
      "[[1 4 7]\n",
      " [2 5 8]\n",
      " [3 6 9]]\n",
      "modifying matrix\n",
      "3 6 9 12 15 18 21 24 27 "
     ]
    }
   ],
   "source": [
    "a=np.array([[1,2,3],[4,5,6],[7,8,9]])\n",
    "print(\"original matrix\")\n",
    "print(a)\n",
    "t=a.T\n",
    "print(\"transpose matrix\")\n",
    "print(t)\n",
    "print(\"modifying matrix\")\n",
    "for x in np.nditer(a,op_flags=['readwrite']):\n",
    "    x[...]=3*x\n",
    "    print(x,end=\" \")"
   ]
  },
  {
   "cell_type": "code",
   "execution_count": 188,
   "metadata": {},
   "outputs": [
    {
     "ename": "SyntaxError",
     "evalue": "invalid syntax (<ipython-input-188-064903797483>, line 4)",
     "output_type": "error",
     "traceback": [
      "\u001b[1;36m  File \u001b[1;32m\"<ipython-input-188-064903797483>\"\u001b[1;36m, line \u001b[1;32m4\u001b[0m\n\u001b[1;33m    print(np.char.multiply('hello'*3))\u001b[0m\n\u001b[1;37m    ^\u001b[0m\n\u001b[1;31mSyntaxError\u001b[0m\u001b[1;31m:\u001b[0m invalid syntax\n"
     ]
    }
   ],
   "source": [
    "# doubtimport numpy as np\n",
    "print(np.char.add([['welcome'],['to'],['pune']])\n",
    "print(np.char.multiply(['hello'],3))\n",
    "print(np.char.center(\"javapoint\",20,fillchar=\"*\"))\n",
    "print(np.char.capitalize(\"welcome to Aurangabad city\"))\n",
    "print(np.char.title(\"chapter number one\")) \n",
    "print(np.char.lower(\"WELCOME\"))\n",
    "print(np.char.upper(\"welcome\"))\n",
    "print(np.char.split(\"welcome to python data science\"),sep=\" \")\n",
    "print(np.char.splitlines(\"Welcome \\n to \\n javapoint\"))\n",
    "str=\"how are you\"\n",
    "print(str)\n",
    "print(np.char.strip(str))\n",
    "print(np.char.join(\":\",str))"
   ]
  },
  {
   "cell_type": "code",
   "execution_count": 189,
   "metadata": {},
   "outputs": [
    {
     "ename": "TypeError",
     "evalue": "_binary_op_dispatcher() missing 1 required positional argument: 'x2'",
     "output_type": "error",
     "traceback": [
      "\u001b[1;31m---------------------------------------------------------------------------\u001b[0m",
      "\u001b[1;31mTypeError\u001b[0m                                 Traceback (most recent call last)",
      "\u001b[1;32m<ipython-input-189-0f29fab177ee>\u001b[0m in \u001b[0;36m<module>\u001b[1;34m\u001b[0m\n\u001b[0;32m      1\u001b[0m \u001b[1;31m# doubt\u001b[0m\u001b[1;33m\u001b[0m\u001b[1;33m\u001b[0m\u001b[1;33m\u001b[0m\u001b[0m\n\u001b[0;32m      2\u001b[0m \u001b[1;32mimport\u001b[0m \u001b[0mnumpy\u001b[0m \u001b[1;32mas\u001b[0m \u001b[0mnp\u001b[0m\u001b[1;33m\u001b[0m\u001b[1;33m\u001b[0m\u001b[0m\n\u001b[1;32m----> 3\u001b[1;33m \u001b[0ma\u001b[0m\u001b[1;33m=\u001b[0m\u001b[0mnp\u001b[0m\u001b[1;33m.\u001b[0m\u001b[0mchar\u001b[0m\u001b[1;33m.\u001b[0m\u001b[0madd\u001b[0m\u001b[1;33m(\u001b[0m\u001b[1;33m[\u001b[0m\u001b[1;33m[\u001b[0m\u001b[1;34m'welcome'\u001b[0m\u001b[1;33m]\u001b[0m\u001b[1;33m,\u001b[0m\u001b[1;33m[\u001b[0m\u001b[1;34m'to'\u001b[0m\u001b[1;33m]\u001b[0m\u001b[1;33m,\u001b[0m\u001b[1;33m[\u001b[0m\u001b[1;34m'pune'\u001b[0m\u001b[1;33m]\u001b[0m\u001b[1;33m]\u001b[0m\u001b[1;33m)\u001b[0m\u001b[1;33m\u001b[0m\u001b[1;33m\u001b[0m\u001b[0m\n\u001b[0m\u001b[0;32m      4\u001b[0m \u001b[0mprint\u001b[0m\u001b[1;33m(\u001b[0m\u001b[0ma\u001b[0m\u001b[1;33m)\u001b[0m\u001b[1;33m\u001b[0m\u001b[1;33m\u001b[0m\u001b[0m\n",
      "\u001b[1;32m<__array_function__ internals>\u001b[0m in \u001b[0;36madd\u001b[1;34m(*args, **kwargs)\u001b[0m\n",
      "\u001b[1;31mTypeError\u001b[0m: _binary_op_dispatcher() missing 1 required positional argument: 'x2'"
     ]
    }
   ],
   "source": [
    "# doubt\n",
    "import numpy as np\n",
    "a=np.char.add([['welcome'],['to'],['pune']])\n",
    "print(a)"
   ]
  },
  {
   "cell_type": "code",
   "execution_count": 94,
   "metadata": {},
   "outputs": [
    {
     "name": "stdout",
     "output_type": "stream",
     "text": [
      "['hellohellohello']\n"
     ]
    }
   ],
   "source": [
    "import numpy as np\n",
    "print(np.char.multiply([\"hello\"],3))"
   ]
  },
  {
   "cell_type": "code",
   "execution_count": 110,
   "metadata": {},
   "outputs": [
    {
     "name": "stdout",
     "output_type": "stream",
     "text": [
      "*********************************************javapoint**********************************************\n"
     ]
    }
   ],
   "source": [
    "import numpy as np\n",
    "print(np.char.center(\"javapoint\",100,fillchar =\"*\"))"
   ]
  },
  {
   "cell_type": "code",
   "execution_count": 112,
   "metadata": {},
   "outputs": [
    {
     "name": "stdout",
     "output_type": "stream",
     "text": [
      "Welcome to aurangabad city\n"
     ]
    }
   ],
   "source": [
    "import numpy as np\n",
    "print(np.char.capitalize(\"welcome to Aurangabad city\"))"
   ]
  },
  {
   "cell_type": "code",
   "execution_count": 113,
   "metadata": {},
   "outputs": [
    {
     "name": "stdout",
     "output_type": "stream",
     "text": [
      "Chapter Number One\n"
     ]
    }
   ],
   "source": [
    "import numpy as np\n",
    "print(np.char.title(\"chapter number one\")) "
   ]
  },
  {
   "cell_type": "code",
   "execution_count": 114,
   "metadata": {},
   "outputs": [
    {
     "name": "stdout",
     "output_type": "stream",
     "text": [
      "welcome\n",
      "WELCOME\n"
     ]
    }
   ],
   "source": [
    "import numpy as np\n",
    "print(np.char.lower(\"WELCOME\"))\n",
    "print(np.char.upper(\"welcome\"))"
   ]
  },
  {
   "cell_type": "code",
   "execution_count": 137,
   "metadata": {},
   "outputs": [
    {
     "name": "stdout",
     "output_type": "stream",
     "text": [
      "['welcome to pyt', 'hon data science']\n",
      "['welcome', 'to', 'python', 'data', 'science']\n",
      "['welcome', ' t', 'o pyt', 'hon da', 'ta scie', 'nce']\n"
     ]
    }
   ],
   "source": [
    "import numpy as np\n",
    "print(np.char.split((\"welcome to pyt-hon data science\"),sep=\"-\"))\n",
    "print(np.char.split((\"welcome to python data science\"),sep=\" \"))\n",
    "print(np.char.split((\"welcome, t,o pyt,hon da,ta scie,nce\"),sep=\",\"))"
   ]
  },
  {
   "cell_type": "code",
   "execution_count": 145,
   "metadata": {},
   "outputs": [
    {
     "name": "stdout",
     "output_type": "stream",
     "text": [
      "['Welcome ', ' to ', ' javapoint']\n",
      "['Welcome \\n', ' to \\n', ' javapoint']\n",
      "['Welcome ', ' to ', ' javapoint']\n",
      "['Welcome ', ' to ', ' javapoint']\n"
     ]
    }
   ],
   "source": [
    "import numpy as np\n",
    "print(np.char.splitlines(\"Welcome \\n to \\n javapoint\",keepends=False))\n",
    "print(np.char.splitlines(\"Welcome \\n to \\n javapoint\",keepends=True))\n",
    "print(np.char.splitlines(\"Welcome \\n to \\n javapoint\",keepends=None))\n",
    "print(np.char.splitlines(\"Welcome \\n to \\n javapoint\"))\n",
    "\n"
   ]
  },
  {
   "cell_type": "code",
   "execution_count": 158,
   "metadata": {},
   "outputs": [
    {
     "name": "stdout",
     "output_type": "stream",
     "text": [
      "how are you?\n",
      "       mynameisdan   \n",
      "mynameisdan\n",
      "h:o:w: :a:r:e: :y:o:u:?\n",
      "h^o^w^ ^a^r^e^ ^y^o^u^?\n"
     ]
    }
   ],
   "source": [
    "str=(\"how are you?\")\n",
    "print(str)\n",
    "abc=\"       mynameisdan   \"\n",
    "print(abc)\n",
    "print(np.char.strip(abc))\n",
    "print(np.char.join(\":\",str))\n",
    "print(np.char.join(\"^\",str))"
   ]
  },
  {
   "cell_type": "code",
   "execution_count": 168,
   "metadata": {},
   "outputs": [
    {
     "name": "stdout",
     "output_type": "stream",
     "text": [
      "[[10  9 15]\n",
      " [ 2 25 17]\n",
      " [20 18 11]]\n",
      "[[ 9 10 15]\n",
      " [ 2 17 25]\n",
      " [11 18 20]]\n",
      "sorting along rows\n",
      "[[ 2  9 11]\n",
      " [10 18 15]\n",
      " [20 25 17]]\n",
      "[[ 9 10 15]\n",
      " [ 2 17 25]\n",
      " [11 18 20]]\n",
      "[('name', 'S10'), ('marks', '<i4')]\n",
      "sort by name\n",
      "[(b'ajay', 350) (b'mukesh', 200) (b'vijay', 250)]\n",
      "[(b'mukesh', 200) (b'vijay', 250) (b'ajay', 350)]\n"
     ]
    }
   ],
   "source": [
    "import numpy as np\n",
    "a=np.array([[10,9,15],[2,25,17],[20,18,11]])\n",
    "print(a)\n",
    "print(np.sort(a))\n",
    "print(\"sorting along rows\")\n",
    "print(np.sort(a,0)) #sorts along the columns\n",
    "print(np.sort(a,1)) #sorts along the rows\n",
    "data_type=np.dtype([(\"name\",\"S10\"),(\"marks\",int)]) # s10 is datatype of string, int is datatype of marks\n",
    "print(data_type)\n",
    "arr=np.array([(\"mukesh\",200),\n",
    "             (\"ajay\",350),\n",
    "             (\"vijay\",250)], dtype=data_type)\n",
    "print(\"sort by name\")\n",
    "print(np.sort(arr,order=\"name\"))\n",
    "print(np.sort(arr,order=\"marks\"))"
   ]
  },
  {
   "cell_type": "code",
   "execution_count": 191,
   "metadata": {},
   "outputs": [
    {
     "name": "stdout",
     "output_type": "stream",
     "text": [
      "original array [[10  9 15 19]\n",
      " [ 2 25 17 21]\n",
      " [20 18 11 23]]\n",
      "id of array: 2698240668416\n",
      "copied array: [[10  9 15 19]\n",
      " [ 2 25 17 21]\n",
      " [20 18 11 23]]\n",
      "id of array: 2698240668416\n",
      "[[10  9 15]\n",
      " [19  2 25]\n",
      " [17 21 20]\n",
      " [18 11 23]]\n",
      "[[10  9 15]\n",
      " [19  2 25]\n",
      " [17 21 20]\n",
      " [18 11 23]]\n"
     ]
    }
   ],
   "source": [
    "#assigning array\n",
    "import numpy as np\n",
    "a=np.array([[10,9,15,19],[2,25,17,21],[20,18,11,23]])\n",
    "print(\"original array\",a)\n",
    "print(\"id of array:\",id(a))\n",
    "b=a\n",
    "print(\"copied array:\",b)\n",
    "print(\"id of array:\",id(b))\n",
    "b.shape=4,3\n",
    "print(a)\n",
    "print(b)\n",
    "\n"
   ]
  },
  {
   "cell_type": "code",
   "execution_count": 193,
   "metadata": {},
   "outputs": [
    {
     "name": "stdout",
     "output_type": "stream",
     "text": [
      "original array [[10  9 15 19]\n",
      " [ 2 25 17 21]\n",
      " [20 18 11 23]]\n",
      "id of array: 2698241407376\n",
      "copied array: [[10  9 15 19]\n",
      " [ 2 25 17 21]\n",
      " [20 18 11 23]]\n",
      "id of array: 2698241406336\n",
      "[[10  9 15 19]\n",
      " [ 2 25 17 21]\n",
      " [20 18 11 23]]\n",
      "[[10  9 15]\n",
      " [19  2 25]\n",
      " [17 21 20]\n",
      " [18 11 23]]\n"
     ]
    }
   ],
   "source": [
    "#view\n",
    "import numpy as np\n",
    "a=np.array([[10,9,15,19],[2,25,17,21],[20,18,11,23]])\n",
    "print(\"original array\",a)\n",
    "print(\"id of array:\",id(a))\n",
    "b=a.view()\n",
    "print(\"copied array:\",b)\n",
    "print(\"id of array:\",id(b))\n",
    "b.shape=4,3\n",
    "print(a)\n",
    "print(b)"
   ]
  },
  {
   "cell_type": "code",
   "execution_count": 194,
   "metadata": {},
   "outputs": [
    {
     "name": "stdout",
     "output_type": "stream",
     "text": [
      "original array [[10  9 15 19]\n",
      " [ 2 25 17 21]\n",
      " [20 18 11 23]]\n",
      "id of array: 2698241329392\n",
      "copied array: [[10  9 15 19]\n",
      " [ 2 25 17 21]\n",
      " [20 18 11 23]]\n",
      "id of array: 2698241311568\n",
      "[[10  9 15 19]\n",
      " [ 2 25 17 21]\n",
      " [20 18 11 23]]\n",
      "[[10  9 15]\n",
      " [19  2 25]\n",
      " [17 21 20]\n",
      " [18 11 23]]\n"
     ]
    }
   ],
   "source": [
    "#copy\n",
    "import numpy as np\n",
    "a=np.array([[10,9,15,19],[2,25,17,21],[20,18,11,23]])\n",
    "print(\"original array\",a)\n",
    "print(\"id of array:\",id(a))\n",
    "b=a.copy()\n",
    "print(\"copied array:\",b)\n",
    "print(\"id of array:\",id(b))\n",
    "b.shape=4,3\n",
    "print(a)\n",
    "print(b)"
   ]
  },
  {
   "cell_type": "code",
   "execution_count": 215,
   "metadata": {},
   "outputs": [
    {
     "name": "stdout",
     "output_type": "stream",
     "text": [
      "[[ 3  6  9]\n",
      " [16 16 16]\n",
      " [12 12 12]]\n",
      "\n",
      "\n",
      "[[ 3  6  9]\n",
      " [16 16 16]\n",
      " [12 12 12]]\n",
      "\n",
      "\n",
      "[[29 29 29]\n",
      " [52 52 52]\n",
      " [26 26 26]]\n",
      "\n",
      "\n",
      "[[29 29 29]\n",
      " [52 52 52]\n",
      " [26 26 26]]\n",
      "\n",
      "\n",
      "[[21 24 27]\n",
      " [28 32 36]\n",
      " [42 48 54]]\n",
      "\n",
      "\n",
      "[[ 10  81  75 171]\n",
      " [  4 125 119 441]\n",
      " [ 40 324  11  69]]\n"
     ]
    }
   ],
   "source": [
    "\n",
    "import numpy as np\n",
    "a=np.array([[10,9,15,19],[2,25,17,21],[20,18,11,23]])\n",
    "b=np.array([[1,9,5,9],[2,5,7,21],[2,18,1,3]])\n",
    "c=np.array([[1,2,3],[4,4,4],[2,2,2]])\n",
    "d=np.array([[3,3,3],[4,4,4],[6,6,6]])\n",
    "res1=np.multiply(c,d) #element wise matrix multplication\n",
    "print(res1)\n",
    "print(\"\\n\")\n",
    "print(c*d)\n",
    "print(\"\\n\")\n",
    "res1_1=np.matmul(c,d) #matrix multiplication of arrays \n",
    "res1_2=np.dot(c,d) #dot product of matrix\n",
    "res1_3=np.matmul(d,c)\n",
    "print(res1_1)\n",
    "print(\"\\n\")\n",
    "print(res1_2)\n",
    "print(\"\\n\")\n",
    "print(res1_3)\n",
    "print(\"\\n\")\n",
    "res2=np.multiply(a,b)\n",
    "print(res)\n",
    "res3=np.matmul(a,b) #gives error but lite\n"
   ]
  },
  {
   "cell_type": "code",
   "execution_count": 227,
   "metadata": {},
   "outputs": [
    {
     "name": "stdout",
     "output_type": "stream",
     "text": [
      "[[ 456  623  506  743]\n",
      " [ 452  991  684  975]\n",
      " [ 502  874  773 1034]\n",
      " [  34   54   45   64]]\n",
      "\n",
      "\n",
      "[25 10]\n"
     ]
    }
   ],
   "source": [
    "import numpy as np\n",
    "a1=np.array([[10,9,15,19],[2,25,17,21],[20,18,11,23],[1,1,1,1]])\n",
    "b=np.array([[10,9,15,19],[2,25,17,21],[20,18,11,23],[2,2,2,1]])\n",
    "arr=np.matmul(a1,b)\n",
    "print(arr)\n",
    "print(\"\\n\")\n",
    "\n",
    "A = np.array([[5, 0],[0, 5]])\n",
    "B =np.array([5, 2])\n",
    "c=np.matmul(A,B)\n",
    "print(c)\n"
   ]
  },
  {
   "cell_type": "code",
   "execution_count": 228,
   "metadata": {},
   "outputs": [
    {
     "name": "stdout",
     "output_type": "stream",
     "text": [
      "[ 0  1  2  3  4  5 30 35 40 45 50 55]\n"
     ]
    }
   ],
   "source": [
    "import numpy as np\n",
    "a=np.arange(12) #(start,stop,step)\n",
    "b=np.where(a<6,a,5*a) #a<6=x,5*a=y  if x then a else y\n",
    "print(b)"
   ]
  },
  {
   "cell_type": "code",
   "execution_count": 229,
   "metadata": {},
   "outputs": [
    {
     "name": "stdout",
     "output_type": "stream",
     "text": [
      "[[1 8]\n",
      " [3 4]]\n"
     ]
    }
   ],
   "source": [
    "import numpy as np\n",
    "b=np.where([[True,False],[True,True]],[[1,2],[3,4]],[[9,8],[7,6]])\n",
    "print(b)"
   ]
  },
  {
   "cell_type": "code",
   "execution_count": 2,
   "metadata": {},
   "outputs": [
    {
     "data": {
      "text/plain": [
       "array([ 1.0421192 ,  1.21141273,  2.28067358,  2.52174099,  1.59231847,\n",
       "        0.13922316,  0.69434184,  0.15079818, -1.48979842,  0.88779193,\n",
       "        0.10778775,  0.70993628,  2.45444509, -0.19288964,  0.90594329,\n",
       "       -0.21502419,  0.15004847,  0.0355889 ,  0.98262813,  0.17321197,\n",
       "        1.84409277,  0.81678092,  0.20542204,  0.77765315, -0.55800384,\n",
       "       -1.24453038,  0.60410487, -2.48967746, -0.11621791, -0.39225324,\n",
       "       -0.21017239,  0.19230837,  0.27413287,  1.53421081, -0.65564439,\n",
       "        0.48144991,  0.27983142, -0.81057311,  0.55691726,  1.25625946,\n",
       "       -0.8031416 ,  1.98543082,  1.08538015, -1.25450392,  0.11726057])"
      ]
     },
     "execution_count": 2,
     "metadata": {},
     "output_type": "execute_result"
    }
   ],
   "source": [
    "#The numpy.random.randn() function creates an array of specified shape and fills\n",
    "#it with random values as per standard normal distribution. \n",
    "import numpy as np\n",
    "p=np.random.randn(45) \n",
    "p"
   ]
  },
  {
   "cell_type": "code",
   "execution_count": 34,
   "metadata": {},
   "outputs": [
    {
     "name": "stdout",
     "output_type": "stream",
     "text": [
      "Output 1D Array filled with random integers : \n",
      "  [12 24  2 22 11  4  9 12 12  7  2 18 18 29 22  4 20 20 17 17]\n",
      "\n",
      "\n",
      "[282 236 149 172 140  69  84 199 119 113 156 220 269   9 196  42 101 191\n",
      " 140  92 127 217  31 241  35 285 205 151   9  83 287 151  24 235 110 140\n",
      "  92 157 199  75 237   9 126 284  76 198 169 202 270 217 167 156 285 224\n",
      "  23 171  75   1  15 285 111 212  95 238  34  92  83 222 151  18 242 292\n",
      " 190  28   1  93  81 179 118 285]\n",
      "\n",
      "\n",
      "Output 2D Array filled with random integers : \n",
      " [[51 64 43 46 52]\n",
      " [55 56 41 34 65]\n",
      " [45 49 41 49 54]]\n",
      "\n",
      "\n",
      "Output 3D Array filled with random integers : \n",
      " [[[5 6 3 5]\n",
      "  [7 4 2 9]\n",
      "  [7 3 6 7]]\n",
      "\n",
      " [[5 5 8 9]\n",
      "  [2 6 9 8]\n",
      "  [4 5 8 2]]]\n",
      "\n",
      "\n",
      "6\n"
     ]
    }
   ],
   "source": [
    "#np.random.randint()  fills array with random integers\n",
    "import numpy as np\n",
    "arr1 = np.random.randint(low = 0, high = 30, size = 20)\n",
    "arr2=np.random.randint( 0,300,80)  #low,high,size\n",
    "arr3=np.random.randint(23,69,(3,5))  #2D array\n",
    "arr4=np.random.randint(2, 10, (2, 3, 4))  #3D array\n",
    "arr5=np.random.randint(2,20) #default size =1\n",
    "print (\"Output 1D Array filled with random integers : \\n \", arr1) \n",
    "print('\\n')\n",
    "print(arr2)\n",
    "print('\\n')\n",
    "print(\"Output 2D Array filled with random integers : \\n\",arr3)\n",
    "print('\\n')\n",
    "print(\"Output 3D Array filled with random integers : \\n\",arr4)\n",
    "print('\\n')\n",
    "print(arr5)\n"
   ]
  },
  {
   "cell_type": "code",
   "execution_count": 14,
   "metadata": {},
   "outputs": [
    {
     "name": "stdout",
     "output_type": "stream",
     "text": [
      "1D Array filled with random values : \n",
      " [0.98152726 0.81027211 0.28766916 0.02383039 0.09221633]\n"
     ]
    }
   ],
   "source": [
    "#np.random.rand() or np.random.random  fills array with values between (0-1)\n",
    "import numpy as np\n",
    "array1 = np.random.rand(5)\n",
    "print(\"1D Array filled with random values : \\n\", array1)"
   ]
  },
  {
   "cell_type": "code",
   "execution_count": 20,
   "metadata": {},
   "outputs": [
    {
     "data": {
      "text/plain": [
       "array([4, 0, 3, 3, 3, 1, 3, 2, 4, 0])"
      ]
     },
     "execution_count": 20,
     "metadata": {},
     "output_type": "execute_result"
    }
   ],
   "source": [
    "import numpy as np\n",
    "np.random.seed(0) #can put anything instaed of 0\n",
    "s=np.random.choice(5,10)  #returns array with no's between 0-5 with size 10\n",
    "s\n",
    "\n"
   ]
  },
  {
   "cell_type": "code",
   "execution_count": 31,
   "metadata": {},
   "outputs": [
    {
     "data": {
      "text/plain": [
       "array([54, 56, 22, 65, 22, 52, 59, 40, 33,  0, 60, 59, 74, 56, 62, 12, 18,\n",
       "       56,  1, 56, 11, 37, 19,  9, 56, 49, 63, 13, 59, 58, 33, 54, 63, 22,\n",
       "       50, 40])"
      ]
     },
     "execution_count": 31,
     "metadata": {},
     "output_type": "execute_result"
    }
   ],
   "source": [
    "import numpy as np\n",
    "np.random.seed(9)\n",
    "s1=np.random.choice(77,36)  #prints 36 integers between 0-77\n",
    "s1"
   ]
  },
  {
   "cell_type": "code",
   "execution_count": 37,
   "metadata": {},
   "outputs": [
    {
     "name": "stdout",
     "output_type": "stream",
     "text": [
      "2000\n",
      "6.73867291326013\n",
      "[8.48780091 5.69757887 6.28749654 ... 8.02998891 6.88866749 6.29510166]\n"
     ]
    }
   ],
   "source": [
    "#The random.normal() function is part of Python’s NumPy library and is used to model \n",
    "#probabilistic experiments with the help of normal distribution.\n",
    "import numpy as np\n",
    "m=6.7\n",
    "s=1.2\n",
    "n=2000\n",
    "ret = np.random.normal(m, s, n) #m=mean , s=std deviation ,n=sample size\n",
    "print(len(ret))\n",
    "print(ret.mean())\n",
    "print(ret)\n",
    "##the return value has 2000 values, which has m=6.7 , std=1.2\n",
    "#check the plot in matplotlib module"
   ]
  },
  {
   "cell_type": "code",
   "execution_count": null,
   "metadata": {},
   "outputs": [],
   "source": []
  }
 ],
 "metadata": {
  "kernelspec": {
   "display_name": "Python 3",
   "language": "python",
   "name": "python3"
  },
  "language_info": {
   "codemirror_mode": {
    "name": "ipython",
    "version": 3
   },
   "file_extension": ".py",
   "mimetype": "text/x-python",
   "name": "python",
   "nbconvert_exporter": "python",
   "pygments_lexer": "ipython3",
   "version": "3.8.5"
  }
 },
 "nbformat": 4,
 "nbformat_minor": 4
}
